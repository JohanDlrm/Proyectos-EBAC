{
 "cells": [
  {
   "cell_type": "code",
   "execution_count": 1,
   "id": "9e6b0829",
   "metadata": {},
   "outputs": [
    {
     "name": "stdout",
     "output_type": "stream",
     "text": [
      "The result of multiplying 100 and 4 is 400.\n"
     ]
    }
   ],
   "source": [
    "a = 100\n",
    "b = 4\n",
    "c = a * b\n",
    "print(f\"The result of multiplying {a} and {b} is {c}.\")"
   ]
  }
 ],
 "metadata": {
  "kernelspec": {
   "display_name": "base",
   "language": "python",
   "name": "python3"
  },
  "language_info": {
   "codemirror_mode": {
    "name": "ipython",
    "version": 3
   },
   "file_extension": ".py",
   "mimetype": "text/x-python",
   "name": "python",
   "nbconvert_exporter": "python",
   "pygments_lexer": "ipython3",
   "version": "3.12.7"
  }
 },
 "nbformat": 4,
 "nbformat_minor": 5
}
