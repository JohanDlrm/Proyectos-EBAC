{
 "cells": [
  {
   "cell_type": "code",
   "execution_count": 2,
   "id": "9e6b0829",
   "metadata": {},
   "outputs": [
    {
     "name": "stdout",
     "output_type": "stream",
     "text": [
      "The result of multiplying 100 and 4 is 400.\n",
      "The result of adding 100 and 4 is 104.\n"
     ]
    }
   ],
   "source": [
    "a = 100\n",
    "b = 4\n",
    "c = a * b\n",
    "d = a + b\n",
    "e = a - b\n",
    "print(f\"The result of multiplying {a} and {b} is {c}.\")\n",
    "print(f\"The result of adding {a} and {b} is {d}.\")\n",
    "# This script performs basic arithmetic operations and prints the results."
   ]
  }
 ],
 "metadata": {
  "kernelspec": {
   "display_name": "base",
   "language": "python",
   "name": "python3"
  },
  "language_info": {
   "codemirror_mode": {
    "name": "ipython",
    "version": 3
   },
   "file_extension": ".py",
   "mimetype": "text/x-python",
   "name": "python",
   "nbconvert_exporter": "python",
   "pygments_lexer": "ipython3",
   "version": "3.12.7"
  }
 },
 "nbformat": 4,
 "nbformat_minor": 5
}
